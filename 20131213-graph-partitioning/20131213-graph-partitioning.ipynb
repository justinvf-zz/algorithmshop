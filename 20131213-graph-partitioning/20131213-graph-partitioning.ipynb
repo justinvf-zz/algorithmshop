{
 "metadata": {
  "name": ""
 },
 "nbformat": 3,
 "nbformat_minor": 0,
 "worksheets": [
  {
   "cells": [
    {
     "cell_type": "code",
     "collapsed": false,
     "input": [
      "# Constants for you to change\n",
      "import os\n",
      "\n",
      "DATA_DIRECTORY = '/home/data/justin_files/livejournal'\n",
      "LIVEJOURNAL_FILENAME = os.path.join(DATA_DIRECTORY, 'livejournal.txt.gz')\n",
      "LIVEJOURNAL_URL = 'http://snap.stanford.edu/data/soc-LiveJournal1.txt.gz'\n",
      "\n",
      "# Just have these hardcoded, though we don't really need to\n",
      "NUM_EDGES = 68993773\n",
      "NUM_NODES = 4847571"
     ],
     "language": "python",
     "metadata": {},
     "outputs": [],
     "prompt_number": 1
    },
    {
     "cell_type": "code",
     "collapsed": false,
     "input": [
      "# Downloading the file\n",
      "\n",
      "import urllib.request\n",
      "\n",
      "assert os.path.exists(DATA_DIRECTORY)\n",
      "\n",
      "# Get your data. This file is ~250M so it will take a bit\n",
      "print('DOWNLOADING 250M FILE. WILL SAVE FOR FUTURE USE')\n",
      "if not os.path.exists(LIVEJOURNAL_FILENAME):\n",
      "    urllib.request.urlretrieve(LIVEJOURNAL_URL, LIVEJOURNAL_FILENAME)\n",
      "\n",
      "# Show a little bit of the file\n",
      "print('\\nFILE STATS:')\n",
      "!ls -lh $LIVEJOURNAL_FILENAME\n",
      "print('\\nSTARTING LINES')\n",
      "!zcat $LIVEJOURNAL_FILENAME | head -n 30"
     ],
     "language": "python",
     "metadata": {},
     "outputs": [
      {
       "output_type": "stream",
       "stream": "stdout",
       "text": [
        "DOWNLOADING 250M FILE. WILL SAVE FOR FUTURE USE\n",
        "\n",
        "FILE STATS:\n",
        "-rw-rw-r-- 1 justinvf justinvf 248M Dec 13 14:19 /home/data/justin_files/livejournal/livejournal.txt.gz\r\n"
       ]
      },
      {
       "output_type": "stream",
       "stream": "stdout",
       "text": [
        "\n",
        "STARTING LINES\n",
        "# Directed graph (each unordered pair of nodes is saved once): soc-LiveJournal1.txt \r",
        "\r\n",
        "# Directed LiveJournal friednship social network\r",
        "\r\n",
        "# Nodes: 4847571 Edges: 68993773\r",
        "\r\n",
        "# FromNodeId\tToNodeId\r",
        "\r\n",
        "0\t1\r",
        "\r\n",
        "0\t2\r",
        "\r\n",
        "0\t3\r",
        "\r\n",
        "0\t4\r",
        "\r\n",
        "0\t5\r",
        "\r\n",
        "0\t6\r",
        "\r\n",
        "0\t7\r",
        "\r\n",
        "0\t8\r",
        "\r\n",
        "0\t9\r",
        "\r\n",
        "0\t10\r",
        "\r\n",
        "0\t11\r",
        "\r\n",
        "0\t12\r",
        "\r\n",
        "0\t13\r",
        "\r\n",
        "0\t14\r",
        "\r\n",
        "0\t15\r",
        "\r\n",
        "0\t16\r",
        "\r\n",
        "0\t17\r",
        "\r\n",
        "0\t18\r",
        "\r\n",
        "0\t19\r",
        "\r\n",
        "0\t20\r",
        "\r\n",
        "0\t21\r",
        "\r\n",
        "0\t22\r",
        "\r\n",
        "0\t23\r",
        "\r\n",
        "0\t24\r",
        "\r\n",
        "0\t25\r",
        "\r\n",
        "0\t26\r",
        "\r\n",
        "\r\n",
        "gzip: stdout: Broken pipe\r\n"
       ]
      }
     ],
     "prompt_number": 2
    },
    {
     "cell_type": "code",
     "collapsed": false,
     "input": [
      "# Cleaning the data\n",
      "\n",
      "import numpy as np\n",
      "import gzip\n",
      "\n",
      "def row_generator():\n",
      "    \"\"\"This will generate all the edges in the graph.\"\"\"\n",
      "    with gzip.open(LIVEJOURNAL_FILENAME, 'rt') as f:\n",
      "        for line in f:\n",
      "            if line.startswith('#'):\n",
      "                continue\n",
      "            else:\n",
      "                (left_node, right_node) = line.split('\\t')\n",
      "                yield(int(left_node), int(right_node))\n",
      "\n",
      "def to_undirected(edge_iterable, num_edges, num_nodes, shuffle=True):\n",
      "    \"\"\"Takes an iterable of edges and produces the list of edges for the undirected graph.\n",
      "    \n",
      "    > to_undirected([[0,1],[1,2],[2,10]], 3, 11)\n",
      "    array([[ 0,  1],\n",
      "       [ 1,  0],\n",
      "       [ 1,  2],\n",
      "       [ 2,  1],\n",
      "       [ 2, 10],\n",
      "       [10,  2]])\n",
      "    \"\"\"\n",
      "    # need int64 to do gross bithacks\n",
      "    as_array = np.zeros((num_edges, 2), dtype=np.int64)\n",
      "    for (i, (n_0, n_1)) in enumerate(edge_iterable):\n",
      "            as_array[i,0] = n_0\n",
      "            as_array[i,1] = n_1\n",
      "    # The graph is directed, but we want to make it undirected,\n",
      "    # which means we will duplicate some rows.\n",
      "\n",
      "    left_nodes = as_array[:,0]\n",
      "    right_nodes = as_array[:,1]\n",
      "    \n",
      "    if shuffle:\n",
      "        the_shuffle = np.arange(num_nodes)\n",
      "        np.random.shuffle(the_shuffle)\n",
      "        left_nodes = the_shuffle.take(left_nodes)\n",
      "        right_nodes = the_shuffle.take(right_nodes)\n",
      "\n",
      "    \n",
      "    # numpy.unique will not unique whole rows, so this little bit-hacking\n",
      "    # is a quick way to get unique rows after making a flipped copy of\n",
      "    # each edge.\n",
      "    max_bits = int(np.ceil(np.log2(num_nodes + 1)))\n",
      "    \n",
      "    encoded_edges_forward = np.left_shift(left_nodes, max_bits) | right_nodes\n",
      "    \n",
      "    # Flip the columns and do it again:\n",
      "    encoded_edges_reverse = np.left_shift(right_nodes, max_bits) | left_nodes\n",
      "\n",
      "    unique_encoded_edges = np.unique(np.hstack((encoded_edges_forward, encoded_edges_reverse)))\n",
      "    \n",
      "    left_node_decoded = np.right_shift(unique_encoded_edges, max_bits)\n",
      "    \n",
      "    # Mask out the high order bits\n",
      "    right_node_decoded = (2 ** (max_bits) - 1) & unique_encoded_edges\n",
      "    \n",
      "    undirected_edges = np.vstack((left_node_decoded, right_node_decoded)).T.astype(np.int32)\n",
      "\n",
      "    # ascontiguousarray so that it's c-contiguous for cython code below\n",
      "    return np.ascontiguousarray(undirected_edges)\n",
      "\n",
      "\n",
      "def get_clean_data(shuffle=True):\n",
      "    if shuffle:\n",
      "        name = os.path.join(DATA_DIRECTORY, 'LJ-cleaned-shuffled.npy')\n",
      "    else:\n",
      "        name = os.path.join(DATA_DIRECTORY, 'LJ-cleaned.npy')\n",
      "\n",
      "    if os.path.exists(name):\n",
      "        print('Loading from file {}'.format(name))\n",
      "        return np.load(name)\n",
      "    else:\n",
      "        print('Parsing from zip. Will write to file {}'.format(name), flush=True)\n",
      "        # Lets get the edges into one big array\n",
      "        edges = to_undirected(row_generator(), NUM_EDGES, NUM_NODES, shuffle=shuffle)\n",
      "        print('ORIGINAL DIST: {} MIN: {} MAX: {}'.format(np.abs(edges[:,0] - edges[:,1]).mean(), edges.min(), edges.max()))\n",
      "        np.save(name, edges)\n",
      "        return edges"
     ],
     "language": "python",
     "metadata": {},
     "outputs": [],
     "prompt_number": 3
    },
    {
     "cell_type": "code",
     "collapsed": false,
     "input": [
      "print(\"Normalizing data (or loaded pre-computed)\")\n",
      "%time edges = get_clean_data(shuffle=True)\n",
      "%time unshuffled_edges = get_clean_data(shuffle=False)\n",
      "print('\\nEDGES SHAPE: {}'.format(edges.shape))"
     ],
     "language": "python",
     "metadata": {},
     "outputs": [
      {
       "output_type": "stream",
       "stream": "stdout",
       "text": [
        "Normalizing data (or loaded pre-computed)\n",
        "Loading from file /home/data/justin_files/livejournal/LJ-cleaned-shuffled.npy\n",
        "CPU times: user 0 ns, sys: 212 ms, total: 212 ms"
       ]
      },
      {
       "output_type": "stream",
       "stream": "stdout",
       "text": [
        "\n",
        "Wall time: 212 ms\n",
        "Loading from file /home/data/justin_files/livejournal/LJ-cleaned.npy\n",
        "CPU times: user 0 ns, sys: 188 ms, total: 188 ms"
       ]
      },
      {
       "output_type": "stream",
       "stream": "stdout",
       "text": [
        "\n",
        "Wall time: 191 ms\n",
        "\n",
        "EDGES SHAPE: (86220856, 2)\n"
       ]
      }
     ],
     "prompt_number": 4
    },
    {
     "cell_type": "code",
     "collapsed": false,
     "input": [
      "def score(assignment, edges):\n",
      "    \"\"\"Compute the score given an assignment of vertices.\n",
      "    \n",
      "    N nodes are assigned to clusters 0 to K-1.\n",
      "    \n",
      "    assignment: Vector where N[i] is the cluster node i is assigned to.\n",
      "    edges: The edges in the graph, assumed to have one in each direction\n",
      "    \n",
      "    Returns: (total wasted bin space, ratio of edges cut)\n",
      "    \"\"\"\n",
      "    balance = np.bincount(assignment) / len(assignment)\n",
      "    waste = (np.max(balance) - balance).sum()\n",
      "    \n",
      "    left_edge_assignment = assignment.take(edges[:,0])\n",
      "    right_edge_assignment = assignment.take(edges[:,1])\n",
      "    mismatch = (left_edge_assignment != right_edge_assignment).sum()\n",
      "    cut_ratio = mismatch / len(edges)\n",
      "    return (waste, cut_ratio)"
     ],
     "language": "python",
     "metadata": {},
     "outputs": [],
     "prompt_number": 5
    },
    {
     "cell_type": "code",
     "collapsed": true,
     "input": [
      "%load_ext cythonmagic\n",
      "%pylab inline"
     ],
     "language": "python",
     "metadata": {},
     "outputs": [
      {
       "output_type": "stream",
       "stream": "stdout",
       "text": [
        "Populating the interactive namespace from numpy and matplotlib\n"
       ]
      },
      {
       "output_type": "stream",
       "stream": "stderr",
       "text": [
        "/home/justinvf/anaconda/envs/blogging/lib/python3.3/site-packages/matplotlib/mathtext.py:46: UserWarning: Due to a bug in pyparsing <= 2.0.0 on Python 3.x, packrat parsing has been disabled.  Mathtext rendering will be much slower as a result.  Install pyparsing 2.0.0 or later to improve performance.\n",
        "  warn(\"Due to a bug in pyparsing <= 2.0.0 on Python 3.x, packrat parsing \"\n"
       ]
      }
     ],
     "prompt_number": 6
    },
    {
     "cell_type": "code",
     "collapsed": false,
     "input": [
      "%%cython\n",
      "import numpy as np\n",
      "cimport cython\n",
      "\n",
      "cdef int UNMAPPED = -1\n",
      "\n",
      "def linear_deterministic_greedy(int[:,::] edges,\n",
      "                                int num_nodes,\n",
      "                                int num_partitions,\n",
      "                                int[::] partition):\n",
      "    \"\"\"\n",
      "    This algorithm favors a cluster if it has many neighbors of a node, but\n",
      "    penalizes the cluster if it is close to capacity.\n",
      "    \n",
      "    edges: An [:,2] array of edges.\n",
      "    num_nodes: The number of nodes in the graph.\n",
      "    num_partitions: How many partitions we are breaking the graph into.\n",
      "    partition: The partition from a previous run. Used for restreaming.\n",
      "\n",
      "    Returns: A new partition.\n",
      "    \"\"\"\n",
      "    # The output partition\n",
      "\n",
      "    if partition is None:\n",
      "        partition = np.repeat(np.int32(UNMAPPED), num_nodes)\n",
      "\n",
      "    cdef int[::] partition_sizes = np.zeros(num_partitions, dtype=np.int32)\n",
      "         \n",
      "    cdef int[::] partition_votes = np.zeros(num_partitions, dtype=np.int32)\n",
      "    \n",
      "    # Fine to be a little off, to stay integers\n",
      "    cdef int partition_capacity = num_nodes / num_partitions\n",
      "    \n",
      "    cdef int last_left = edges[0,0]\n",
      "    cdef int i = 0\n",
      "    cdef int left = 0\n",
      "    cdef int right = 0\n",
      "    cdef int arg = 0\n",
      "    cdef int max_arg = 0\n",
      "    cdef int max_val = 0\n",
      "    cdef int val = 0\n",
      "    cdef int len_edges = len(edges)\n",
      "    \n",
      "    for i in range(len_edges):\n",
      "        left = edges[i,0]\n",
      "        right = edges[i,1]\n",
      "    \n",
      "        if last_left != left:\n",
      "            # We have found a new node so assign last_left to a partition\n",
      "                \n",
      "            max_arg = 0\n",
      "            max_val = (partition_votes[0]) * (\n",
      "                       partition_capacity - partition_sizes[0])\n",
      "\n",
      "            for arg in range(1, num_partitions):\n",
      "                val = (partition_votes[arg]) * (\n",
      "                       partition_capacity - partition_sizes[arg])\n",
      "                if val > max_val:\n",
      "                    max_arg = arg\n",
      "                    max_val = val\n",
      "\n",
      "            if max_val == 0:\n",
      "                max_arg = arg\n",
      "                # No neighbors (or multiple maxed out) so \"randomly\" select\n",
      "                # the smallest partition\n",
      "                for arg in range(i % num_partitions, num_partitions):\n",
      "                    if partition_sizes[arg] < partition_capacity:\n",
      "                        max_arg = arg\n",
      "                        max_val = 1\n",
      "                        break\n",
      "                if max_val == 0:\n",
      "                    for arg in range(0, i % num_partitions):\n",
      "                        if partition_sizes[arg] < partition_capacity:\n",
      "                            max_arg = arg\n",
      "                            break\n",
      "\n",
      "\n",
      "            partition_sizes[max_arg] += 1\n",
      "            partition[last_left] = max_arg\n",
      "            partition_votes[:] = 0\n",
      "            last_left = left\n",
      "\n",
      "        if partition[right] != UNMAPPED:\n",
      "            partition_votes[partition[right]] += 1\n",
      "\n",
      "\n",
      "    # Clean up the last assignment\n",
      "    max_arg = 0\n",
      "    max_val = 0\n",
      "    for arg in range(0, num_partitions):\n",
      "        if partition_sizes[arg] < partition_capacity:\n",
      "            val = (partition_votes[arg]) * (\n",
      "                    1 - partition_sizes[arg] / partition_capacity)\n",
      "            if val > max_val:\n",
      "                max_arg = arg\n",
      "                max_val = val\n",
      "    partition[left] = max_arg\n",
      "\n",
      "    return np.asarray(partition)"
     ],
     "language": "python",
     "metadata": {},
     "outputs": [],
     "prompt_number": 7
    },
    {
     "cell_type": "code",
     "collapsed": false,
     "input": [
      "def draw_figures(waste_values, edge_score_values, num_partitions):\n",
      "    fig, axes = plt.subplots(nrows=1, ncols=2)\n",
      "    \n",
      "    (waste_axes, score_axes) = axes\n",
      "    waste_axes.plot(waste_values, 'r')\n",
      "    waste_axes.set_xlabel('Round')\n",
      "    waste_axes.set_ylabel('Number of wasted bins')\n",
      "    waste_axes.set_ylim(bottom=0)\n",
      "    waste_axes.set_title('Wasted Bins: {} partitions'.format(num_partitions))\n",
      "    \n",
      "    score_axes.plot(edge_score_values, 'r')\n",
      "    score_axes.set_xlabel('Round')\n",
      "    score_axes.set_ylabel('Ratio of edges crossing partitions')\n",
      "    score_axes.set_ylim(bottom=0)\n",
      "    score_axes.set_title('Score: {} partitions'.format(num_partitions))\n",
      "    \n",
      "    fig.tight_layout()"
     ],
     "language": "python",
     "metadata": {},
     "outputs": [],
     "prompt_number": 8
    },
    {
     "cell_type": "code",
     "collapsed": false,
     "input": [
      "def run_restreaming_greedy(edges, num_nodes, num_partitions=10, num_iterations=10):\n",
      "    print('\\n{} PARTITIONS'.format(num_partitions))\n",
      "    assignments = None\n",
      "    print('ROUND\\tWASTE\\tSCORE')\n",
      "    waste_values = []\n",
      "    edge_score_values = []\n",
      "    flipped_edges = numpy.flipud(edges).copy()\n",
      "    for i in range(num_iterations):\n",
      "        assignments = linear_deterministic_greedy(edges, NUM_NODES, num_partitions, assignments)\n",
      "        (waste, edge_score) = score(assignments, edges)\n",
      "        waste_values.append(waste)\n",
      "        edge_score_values.append(edge_score)\n",
      "        print('{}\\t{:0.3f}\\t{:0.3f}'.format(i, waste, edge_score))\n",
      "    draw_figures(waste_values, edge_score_values, num_partitions)"
     ],
     "language": "python",
     "metadata": {},
     "outputs": [],
     "prompt_number": 9
    },
    {
     "cell_type": "code",
     "collapsed": false,
     "input": [
      "# Use the greedy method to break into 4 partitions\n",
      "%time run_restreaming_greedy(edges, NUM_NODES, num_partitions=4, num_iterations=15)"
     ],
     "language": "python",
     "metadata": {},
     "outputs": [
      {
       "output_type": "stream",
       "stream": "stdout",
       "text": [
        "\n",
        "4 PARTITIONS\n",
        "ROUND\tWASTE\tSCORE\n",
        "0\t0.000\t0.367"
       ]
      },
      {
       "output_type": "stream",
       "stream": "stdout",
       "text": [
        "\n",
        "1\t0.000\t0.263"
       ]
      },
      {
       "output_type": "stream",
       "stream": "stdout",
       "text": [
        "\n",
        "2\t0.000\t0.229"
       ]
      },
      {
       "output_type": "stream",
       "stream": "stdout",
       "text": [
        "\n",
        "3\t0.000\t0.209"
       ]
      },
      {
       "output_type": "stream",
       "stream": "stdout",
       "text": [
        "\n",
        "4\t0.000\t0.201"
       ]
      },
      {
       "output_type": "stream",
       "stream": "stdout",
       "text": [
        "\n",
        "5\t0.000\t0.198"
       ]
      },
      {
       "output_type": "stream",
       "stream": "stdout",
       "text": [
        "\n",
        "6\t0.000\t0.195"
       ]
      },
      {
       "output_type": "stream",
       "stream": "stdout",
       "text": [
        "\n",
        "7\t0.000\t0.194"
       ]
      },
      {
       "output_type": "stream",
       "stream": "stdout",
       "text": [
        "\n",
        "8\t0.000\t0.192"
       ]
      },
      {
       "output_type": "stream",
       "stream": "stdout",
       "text": [
        "\n",
        "9\t0.000\t0.192"
       ]
      },
      {
       "output_type": "stream",
       "stream": "stdout",
       "text": [
        "\n",
        "10\t0.000\t0.191"
       ]
      },
      {
       "output_type": "stream",
       "stream": "stdout",
       "text": [
        "\n",
        "11\t0.000\t0.190"
       ]
      },
      {
       "output_type": "stream",
       "stream": "stdout",
       "text": [
        "\n",
        "12\t0.000\t0.190"
       ]
      },
      {
       "output_type": "stream",
       "stream": "stdout",
       "text": [
        "\n",
        "13\t0.000\t0.189"
       ]
      },
      {
       "output_type": "stream",
       "stream": "stdout",
       "text": [
        "\n",
        "14\t0.000\t0.189"
       ]
      },
      {
       "output_type": "stream",
       "stream": "stdout",
       "text": [
        "\n",
        "CPU times: user 1min 15s, sys: 6.25 s, total: 1min 21s"
       ]
      },
      {
       "output_type": "stream",
       "stream": "stdout",
       "text": [
        "\n",
        "Wall time: 1min 21s\n"
       ]
      },
      {
       "metadata": {},
       "output_type": "display_data",
       "png": "[encoded data removed]",
       "text": [
        "<matplotlib.figure.Figure at 0x7fb8fd7d8f90>"
       ]
      }
     ],
     "prompt_number": 10
    },
    {
     "cell_type": "code",
     "collapsed": false,
     "input": [
      "# Use the greedy method to break into 20 partitions\n",
      "%time run_restreaming_greedy(edges, NUM_NODES, num_partitions=40, num_iterations=15)"
     ],
     "language": "python",
     "metadata": {},
     "outputs": [
      {
       "output_type": "stream",
       "stream": "stdout",
       "text": [
        "\n",
        "40 PARTITIONS\n",
        "ROUND\tWASTE\tSCORE\n",
        "0\t0.000\t0.550"
       ]
      },
      {
       "output_type": "stream",
       "stream": "stdout",
       "text": [
        "\n",
        "1\t0.000\t0.445"
       ]
      },
      {
       "output_type": "stream",
       "stream": "stdout",
       "text": [
        "\n",
        "2\t0.000\t0.412"
       ]
      },
      {
       "output_type": "stream",
       "stream": "stdout",
       "text": [
        "\n",
        "3\t0.000\t0.404"
       ]
      },
      {
       "output_type": "stream",
       "stream": "stdout",
       "text": [
        "\n",
        "4\t0.000\t0.396"
       ]
      },
      {
       "output_type": "stream",
       "stream": "stdout",
       "text": [
        "\n",
        "5\t0.000\t0.392"
       ]
      },
      {
       "output_type": "stream",
       "stream": "stdout",
       "text": [
        "\n",
        "6\t0.000\t0.389"
       ]
      },
      {
       "output_type": "stream",
       "stream": "stdout",
       "text": [
        "\n",
        "7\t0.000\t0.387"
       ]
      },
      {
       "output_type": "stream",
       "stream": "stdout",
       "text": [
        "\n",
        "8\t0.000\t0.386"
       ]
      },
      {
       "output_type": "stream",
       "stream": "stdout",
       "text": [
        "\n",
        "9\t0.000\t0.385"
       ]
      },
      {
       "output_type": "stream",
       "stream": "stdout",
       "text": [
        "\n",
        "10\t0.000\t0.384"
       ]
      },
      {
       "output_type": "stream",
       "stream": "stdout",
       "text": [
        "\n",
        "11\t0.000\t0.383"
       ]
      },
      {
       "output_type": "stream",
       "stream": "stdout",
       "text": [
        "\n",
        "12\t0.000\t0.382"
       ]
      },
      {
       "output_type": "stream",
       "stream": "stdout",
       "text": [
        "\n",
        "13\t0.000\t0.382"
       ]
      },
      {
       "output_type": "stream",
       "stream": "stdout",
       "text": [
        "\n",
        "14\t0.000\t0.381"
       ]
      },
      {
       "output_type": "stream",
       "stream": "stdout",
       "text": [
        "\n",
        "CPU times: user 1min 22s, sys: 6.41 s, total: 1min 28s"
       ]
      },
      {
       "output_type": "stream",
       "stream": "stdout",
       "text": [
        "\n",
        "Wall time: 1min 29s\n"
       ]
      },
      {
       "metadata": {},
       "output_type": "display_data",
       "png": "[encoded data removed]",
       "text": [
        "<matplotlib.figure.Figure at 0x7fb8d3065850>"
       ]
      }
     ],
     "prompt_number": 11
    },
    {
     "cell_type": "code",
     "collapsed": false,
     "input": [
      "%%cython\n",
      "import numpy as np\n",
      "\n",
      "cdef int UNMAPPED = -1\n",
      "\n",
      "def fennel(int[:,::] edges,\n",
      "           int num_nodes,\n",
      "           int num_partitions,\n",
      "           int[::] partition,\n",
      "           float alpha):\n",
      "    \"\"\"\n",
      "    This algorithm favors a cluster if it has many neighbors of a node, but\n",
      "    penalizes the cluster if it is close to capacity.\n",
      "    \n",
      "    partition: A previous partition of the nodes. Set to -1's if a node has not been assigned.\n",
      "    \"\"\"\n",
      "    \n",
      "    cdef int[::] partition_sizes = None\n",
      "    # The output partition\n",
      "    if partition is None:\n",
      "        partition = np.repeat(np.int32(UNMAPPED), num_nodes)\n",
      "        partition_sizes = np.zeros(num_partitions, dtype=np.int32)\n",
      "    else:\n",
      "        partition_sizes = np.bincount(partition).astype(np.int32)\n",
      "    \n",
      "    cdef int[::] partition_votes = np.zeros(num_partitions, dtype=np.int32)\n",
      "    \n",
      "    cdef float partition_capacity = num_nodes / num_partitions\n",
      "    \n",
      "    cdef int last_left = edges[0,0]\n",
      "    cdef int i = 0\n",
      "    cdef int left = 0\n",
      "    cdef int right = 0\n",
      "    cdef int arg = 0\n",
      "    cdef int max_arg = 0\n",
      "    cdef float max_val = 0\n",
      "    cdef float val = 0\n",
      "    cdef int len_edges = len(edges)\n",
      "    cdef int previous_assignment = 0\n",
      "\n",
      "    for i in range(len_edges):\n",
      "        left = edges[i,0]\n",
      "        right = edges[i,1]\n",
      "    \n",
      "        if last_left != left:\n",
      "            # New left node, so we have to assign last left\n",
      "\n",
      "            # Remember placement of last_left in the previous assignment\n",
      "            previous_assignment = partition[last_left]\n",
      "            \n",
      "            max_arg = 0\n",
      "            max_val = partition_votes[0] - alpha * partition_sizes[0]\n",
      "            if previous_assignment == 0:\n",
      "                # We remove the node from its current partition before\n",
      "                # deciding to re-add it, so subtract alpha to give\n",
      "                # result of 1 lower partition size.\n",
      "                max_val += alpha\n",
      "\n",
      "            for arg in range(1, num_partitions):\n",
      "                val = partition_votes[arg] - alpha * partition_sizes[arg]\n",
      "                if previous_assignment == arg:\n",
      "                    # See comment above\n",
      "                    val += alpha\n",
      "                if val > max_val:\n",
      "                    max_arg = arg\n",
      "                    max_val = val\n",
      "\n",
      "            if max_arg != previous_assignment:\n",
      "                partition[last_left] = max_arg\n",
      "                partition_sizes[max_arg] += 1\n",
      "                if previous_assignment != UNMAPPED:\n",
      "                    partition_sizes[previous_assignment] -= 1\n",
      "\n",
      "            partition_votes[:] = 0\n",
      "            last_left = left\n",
      "\n",
      "        if partition[right] != -1:\n",
      "            partition_votes[partition[right]] += 1\n",
      "    \n",
      "    # TODO: finish off this fencepost....\n",
      "    partition[left] = 0\n",
      "    \n",
      "    return np.asarray(partition)"
     ],
     "language": "python",
     "metadata": {},
     "outputs": [],
     "prompt_number": 12
    },
    {
     "cell_type": "code",
     "collapsed": false,
     "input": [
      "def run_fennel_restreaming(edges, num_nodes, num_partitions, num_iterations):\n",
      "    print('{} PARTITIONS'.format(num_partitions))\n",
      "    assignments = None\n",
      "    # We will explore this parameter in a future post. This is sub-optimal\n",
      "    alphas = np.linspace(1.251608191745264e-07, 7.588951557309824e-05, num_iterations)\n",
      "    waste_scores, edge_score_values = [], []\n",
      "    print('ROUND\\tALPHA\\tWASTE\\tSCORE')\n",
      "    for i in range(num_iterations):\n",
      "        alpha = alphas[i]\n",
      "        assignments = fennel(edges, NUM_NODES, num_partitions, assignments, alpha)\n",
      "        (waste, edge_score) = score(assignments, edges)\n",
      "        print('{}\\t{:.1e}\\t{:0.3f}\\t{:0.3f}'.format(i, alpha, waste, edge_score))\n",
      "        waste_scores.append(waste)\n",
      "        edge_score_values.append(edge_score)\n",
      "    draw_figures(waste_scores, edge_score_values, num_partitions)"
     ],
     "language": "python",
     "metadata": {},
     "outputs": [],
     "prompt_number": 13
    },
    {
     "cell_type": "code",
     "collapsed": false,
     "input": [
      "%time run_fennel_restreaming(edges, NUM_NODES, 4, 15)"
     ],
     "language": "python",
     "metadata": {},
     "outputs": [
      {
       "output_type": "stream",
       "stream": "stdout",
       "text": [
        "4 PARTITIONS\n",
        "ROUND\tALPHA\tWASTE\tSCORE\n",
        "0\t1.3e-07\t0.000\t0.326"
       ]
      },
      {
       "output_type": "stream",
       "stream": "stdout",
       "text": [
        "\n",
        "1\t5.5e-06\t0.068\t0.221"
       ]
      },
      {
       "output_type": "stream",
       "stream": "stdout",
       "text": [
        "\n",
        "2\t1.1e-05\t0.038\t0.200"
       ]
      },
      {
       "output_type": "stream",
       "stream": "stdout",
       "text": [
        "\n",
        "3\t1.6e-05\t0.029\t0.190"
       ]
      },
      {
       "output_type": "stream",
       "stream": "stdout",
       "text": [
        "\n",
        "4\t2.2e-05\t0.023\t0.184"
       ]
      },
      {
       "output_type": "stream",
       "stream": "stdout",
       "text": [
        "\n",
        "5\t2.7e-05\t0.018\t0.180"
       ]
      },
      {
       "output_type": "stream",
       "stream": "stdout",
       "text": [
        "\n",
        "6\t3.3e-05\t0.015\t0.177"
       ]
      },
      {
       "output_type": "stream",
       "stream": "stdout",
       "text": [
        "\n",
        "7\t3.8e-05\t0.013\t0.173"
       ]
      },
      {
       "output_type": "stream",
       "stream": "stdout",
       "text": [
        "\n",
        "8\t4.3e-05\t0.012\t0.172"
       ]
      },
      {
       "output_type": "stream",
       "stream": "stdout",
       "text": [
        "\n",
        "9\t4.9e-05\t0.012\t0.171"
       ]
      },
      {
       "output_type": "stream",
       "stream": "stdout",
       "text": [
        "\n",
        "10\t5.4e-05\t0.011\t0.170"
       ]
      },
      {
       "output_type": "stream",
       "stream": "stdout",
       "text": [
        "\n",
        "11\t6.0e-05\t0.010\t0.169"
       ]
      },
      {
       "output_type": "stream",
       "stream": "stdout",
       "text": [
        "\n",
        "12\t6.5e-05\t0.009\t0.168"
       ]
      },
      {
       "output_type": "stream",
       "stream": "stdout",
       "text": [
        "\n",
        "13\t7.0e-05\t0.008\t0.167"
       ]
      },
      {
       "output_type": "stream",
       "stream": "stdout",
       "text": [
        "\n",
        "14\t7.6e-05\t0.008\t0.167"
       ]
      },
      {
       "output_type": "stream",
       "stream": "stdout",
       "text": [
        "\n",
        "CPU times: user 1min 14s, sys: 6.47 s, total: 1min 20s"
       ]
      },
      {
       "output_type": "stream",
       "stream": "stdout",
       "text": [
        "\n",
        "Wall time: 1min 20s\n"
       ]
      },
      {
       "metadata": {},
       "output_type": "display_data",
       "png": "[encoded data removed]",
       "text": [
        "<matplotlib.figure.Figure at 0x7fb953fcde10>"
       ]
      }
     ],
     "prompt_number": 14
    },
    {
     "cell_type": "code",
     "collapsed": false,
     "input": [
      "%time run_fennel_restreaming(edges, NUM_NODES, 20, 15)"
     ],
     "language": "python",
     "metadata": {},
     "outputs": [
      {
       "output_type": "stream",
       "stream": "stdout",
       "text": [
        "20 PARTITIONS\n",
        "ROUND\tALPHA\tWASTE\tSCORE\n",
        "0\t1.3e-07\t0.669\t0.437"
       ]
      },
      {
       "output_type": "stream",
       "stream": "stdout",
       "text": [
        "\n",
        "1\t5.5e-06\t0.754\t0.313"
       ]
      },
      {
       "output_type": "stream",
       "stream": "stdout",
       "text": [
        "\n",
        "2\t1.1e-05\t0.660\t0.288"
       ]
      },
      {
       "output_type": "stream",
       "stream": "stdout",
       "text": [
        "\n",
        "3\t1.6e-05\t0.510\t0.277"
       ]
      },
      {
       "output_type": "stream",
       "stream": "stdout",
       "text": [
        "\n",
        "4\t2.2e-05\t0.503\t0.269"
       ]
      },
      {
       "output_type": "stream",
       "stream": "stdout",
       "text": [
        "\n",
        "5\t2.7e-05\t0.479\t0.266"
       ]
      },
      {
       "output_type": "stream",
       "stream": "stdout",
       "text": [
        "\n",
        "6\t3.3e-05\t0.455\t0.263"
       ]
      },
      {
       "output_type": "stream",
       "stream": "stdout",
       "text": [
        "\n",
        "7\t3.8e-05\t0.395\t0.261"
       ]
      },
      {
       "output_type": "stream",
       "stream": "stdout",
       "text": [
        "\n",
        "8\t4.3e-05\t0.399\t0.259"
       ]
      },
      {
       "output_type": "stream",
       "stream": "stdout",
       "text": [
        "\n",
        "9\t4.9e-05\t0.376\t0.258"
       ]
      },
      {
       "output_type": "stream",
       "stream": "stdout",
       "text": [
        "\n",
        "10\t5.4e-05\t0.336\t0.257"
       ]
      },
      {
       "output_type": "stream",
       "stream": "stdout",
       "text": [
        "\n",
        "11\t6.0e-05\t0.306\t0.257"
       ]
      },
      {
       "output_type": "stream",
       "stream": "stdout",
       "text": [
        "\n",
        "12\t6.5e-05\t0.282\t0.258"
       ]
      },
      {
       "output_type": "stream",
       "stream": "stdout",
       "text": [
        "\n",
        "13\t7.0e-05\t0.273\t0.257"
       ]
      },
      {
       "output_type": "stream",
       "stream": "stdout",
       "text": [
        "\n",
        "14\t7.6e-05\t0.270\t0.257"
       ]
      },
      {
       "output_type": "stream",
       "stream": "stdout",
       "text": [
        "\n",
        "CPU times: user 1min 18s, sys: 6.6 s, total: 1min 25s"
       ]
      },
      {
       "output_type": "stream",
       "stream": "stdout",
       "text": [
        "\n",
        "Wall time: 1min 25s\n"
       ]
      },
      {
       "metadata": {},
       "output_type": "display_data",
       "png": "[encoded data removed]",
       "text": [
        "<matplotlib.figure.Figure at 0x7fb8d3082050>"
       ]
      }
     ],
     "prompt_number": 15
    },
    {
     "cell_type": "code",
     "collapsed": false,
     "input": [],
     "language": "python",
     "metadata": {},
     "outputs": []
    }
   ],
   "metadata": {}
  }
 ]
}