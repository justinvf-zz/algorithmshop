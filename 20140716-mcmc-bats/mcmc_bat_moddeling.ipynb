{
 "metadata": {
  "name": "",
  "signature": "sha256:5b8f234f6ec8f0711aaa5eec20e7c70d2c0c87460c55a1c4e7ac88dbbca3fd8e"
 },
 "nbformat": 3,
 "nbformat_minor": 0,
 "worksheets": [
  {
   "cells": [
    {
     "cell_type": "code",
     "collapsed": false,
     "input": [
      "import pymc\n",
      "\n",
      "import numpy as np\n",
      "np.random.seed(45)\n",
      "\n",
      "from matplotlib import pyplot as plt\n",
      "%pylab inline"
     ],
     "language": "python",
     "metadata": {},
     "outputs": [
      {
       "output_type": "stream",
       "stream": "stdout",
       "text": [
        "Populating the interactive namespace from numpy and matplotlib\n"
       ]
      }
     ],
     "prompt_number": 1
    },
    {
     "cell_type": "markdown",
     "metadata": {},
     "source": [
      "This notebook will play with some ideas of using Twitter data to model information about bat emergence.\n",
      "\n",
      "I went to the \"bat bridge\" twice while attending #scipy2014 in Austin, TX. There are over a million bats under that bridge, but I didn't get to see them come out en masse on either of our visits. Next time I'm in Austin, I'm hoping to go on nights where there is a high probability of bats swarming. My initial hypothesis is that wind and temperature have something to do with whether we get a swarm. If it's too windy, they don't want to fly up high and get blown about. If it's too hot (it's never too cold in Austin), then they are probably languid and will just order take-out that night. If the bats swarm, then people will probably tweet about the bats swarming, but that's not a given. No tweets could mean either no swarm, or that nobody felt like tweeting (must not be the SXSW week). So let's fake some data and then see what sort of parameters we can recover."
     ]
    },
    {
     "cell_type": "code",
     "collapsed": false,
     "input": [
      "NUM_DAYS = 400\n",
      "\n",
      "temperatures = np.random.normal(85, 7, NUM_DAYS)\n",
      "temperatures /= temperatures.max()\n",
      "\n",
      "wind_speeds = np.random.normal(0, 15, NUM_DAYS).clip(0)\n",
      "wind_speeds /= wind_speeds.max()"
     ],
     "language": "python",
     "metadata": {},
     "outputs": [],
     "prompt_number": 2
    },
    {
     "cell_type": "code",
     "collapsed": false,
     "input": [
      "plt.subplot(2,1,1)\n",
      "plt.hist(temperatures);\n",
      "plt.title('Temperatures')\n",
      "plt.subplot(2,1,2)\n",
      "plt.hist(wind_speeds)\n",
      "plt.title('Wind speeds')\n",
      "plt.tight_layout()"
     ],
     "language": "python",
     "metadata": {},
     "outputs": [
      {
       "metadata": {},
       "output_type": "display_data",
       "png": "[encoded data removed]",
       "text": [
        "<matplotlib.figure.Figure at 0x7f2438598450>"
       ]
      }
     ],
     "prompt_number": 3
    },
    {
     "cell_type": "code",
     "collapsed": false,
     "input": [
      "# In generating our fake data, we'll just make some random score involving wind speed and temp.\n",
      "# The higher the grumpier!\n",
      "grumpy_bat_score = temperatures * 3 + wind_speeds * 2"
     ],
     "language": "python",
     "metadata": {},
     "outputs": [],
     "prompt_number": 4
    },
    {
     "cell_type": "code",
     "collapsed": false,
     "input": [
      "plt.hist(grumpy_bat_score);"
     ],
     "language": "python",
     "metadata": {},
     "outputs": [
      {
       "metadata": {},
       "output_type": "display_data",
       "png": "[encoded data removed]",
       "text": [
        "<matplotlib.figure.Figure at 0x7f2438607e50>"
       ]
      }
     ],
     "prompt_number": 5
    },
    {
     "cell_type": "markdown",
     "metadata": {},
     "source": [
      "Looking at that curve, I want to make the data so that if the score is below 2.4, you have a high chance of coming out and if it's above 3.2, you have a low chance. So lets make a sigmoid that does something like that."
     ]
    },
    {
     "cell_type": "code",
     "collapsed": false,
     "input": [
      "x = np.linspace(1.5, 4.5, 1000)\n",
      "widget_a, widget_b = -2, 2.5\n",
      "random_numbers = np.random.rand(NUM_DAYS)\n",
      "bat_exit_days = None\n",
      "\n",
      "def plot_sigmoid(a=-2, center=2.5):\n",
      "    global widget_a, widget_b, bat_exit_days\n",
      "    b = -center * a\n",
      "    widget_a, widget_b = a, b\n",
      "    values = 1 / (1 + np.exp(-(x*a + b)))\n",
      "    plt.plot(x, values)\n",
      "    plt.ylim([0,1])\n",
      "    bat_exit_probability = 1 / (1 + np.exp(-(grumpy_bat_score * a + b)))\n",
      "    bat_exit_days = random_numbers < bat_exit_probability\n",
      "    print(\"Bats swarmed out of the bridge {} days out of {} (a = {} b = {})\".format(bat_exit_days.sum(), NUM_DAYS, a, b))"
     ],
     "language": "python",
     "metadata": {},
     "outputs": [],
     "prompt_number": 6
    },
    {
     "cell_type": "markdown",
     "metadata": {},
     "source": [
      "Play with the widget and make up a probability distribution that looks good to you. Higher magnitude values of a controll the sharpness of the sigmoid function. The center is the midpoint of the distribution."
     ]
    },
    {
     "cell_type": "code",
     "collapsed": false,
     "input": [
      "from IPython.html.widgets import interact\n",
      "interact(plot_sigmoid, a=(-6, -1,.1), center=(1, 4,.1))"
     ],
     "language": "python",
     "metadata": {},
     "outputs": [
      {
       "output_type": "stream",
       "stream": "stdout",
       "text": [
        "Bats swarmed out of the bridge 297 days out of 400 (a = -2.1 b = 6.72)\n"
       ]
      },
      {
       "metadata": {},
       "output_type": "display_data",
       "png": "[encoded data removed]",
       "text": [
        "<matplotlib.figure.Figure at 0x7f24349bebd0>"
       ]
      }
     ],
     "prompt_number": 21
    },
    {
     "cell_type": "markdown",
     "metadata": {},
     "source": [
      "From playing with that widget you can find a value that you're happy with. I chose a distribution that had the bats leaving about a quarter of the days. Remember, this is still in fake land, we are just generting some data to see how well pymc can infer stuff about our real model.\n",
      "\n",
      "Let's actually do a logistic regression using the bat score and the simulated exits and see an upper bound on how good we can do with this modeling (for when we later throw in the twitter noise)."
     ]
    },
    {
     "cell_type": "code",
     "collapsed": false,
     "input": [
      "from sklearn import linear_model"
     ],
     "language": "python",
     "metadata": {},
     "outputs": [],
     "prompt_number": 27
    },
    {
     "cell_type": "code",
     "collapsed": false,
     "input": [
      "wind_and_temp = np.vstack([wind_speeds, temperatures]).T\n",
      "labels = bat_exit_days\n",
      "wind_temp_model = linear_model.LogisticRegression()\n",
      "wind_temp_model.fit(wind_and_temp, labels)"
     ],
     "language": "python",
     "metadata": {},
     "outputs": [
      {
       "metadata": {},
       "output_type": "pyout",
       "prompt_number": 28,
       "text": [
        "LogisticRegression(C=1.0, class_weight=None, dual=False, fit_intercept=True,\n",
        "          intercept_scaling=1, penalty='l2', random_state=None, tol=0.0001)"
       ]
      }
     ],
     "prompt_number": 28
    },
    {
     "cell_type": "code",
     "collapsed": false,
     "input": [
      "(wind_temp_model.predict(wind_and_temp) == labels).sum()"
     ],
     "language": "python",
     "metadata": {},
     "outputs": [
      {
       "metadata": {},
       "output_type": "pyout",
       "prompt_number": 29,
       "text": [
        "317"
       ]
      }
     ],
     "prompt_number": 29
    },
    {
     "cell_type": "code",
     "collapsed": false,
     "input": [
      "grumpy_model = linear_model.LogisticRegression()\n",
      "grumpy_col = grumpy_bat_score.reshape((grumpy_bat_score.size,1))\n",
      "grumpy_model.fit(grumpy_col, labels)\n",
      "(grumpy_model.predict(grumpy_col) == labels).sum()"
     ],
     "language": "python",
     "metadata": {},
     "outputs": [
      {
       "metadata": {},
       "output_type": "pyout",
       "prompt_number": 30,
       "text": [
        "315"
       ]
      }
     ],
     "prompt_number": 30
    },
    {
     "cell_type": "markdown",
     "metadata": {},
     "source": [
      "It's doing a little worse when training on the grumpy bat score since it can overfit a bit with the two dimensions of wind and temp, even though the probability was just determined by the combination of those two."
     ]
    },
    {
     "cell_type": "code",
     "collapsed": false,
     "input": [
      "# Showing how the curves differ between the grumpy model and the generating model\n",
      "x = np.linspace(0, 10, 100)\n",
      "(grumpy_a, grumpy_b) = grumpy_model.raw_coef_.ravel()\n",
      "y_1 = 1 / (1 + np.exp(-(x * grumpy_a + grumpy_b)))\n",
      "plt.plot(x,y_1, label=\"modeled logistic curve\")\n",
      "y_2 = 1 / (1 + np.exp(-(x * widget_a + widget_b)))\n",
      "plt.plot(x, y_2, label=\"actual logistic curve\")\n",
      "plt.legend(bbox_to_anchor=(1.05, 1), loc=2, borderaxespad=0.);"
     ],
     "language": "python",
     "metadata": {},
     "outputs": [
      {
       "metadata": {},
       "output_type": "display_data",
       "png": "[encoded data removed]",
       "text": [
        "<matplotlib.figure.Figure at 0x7f2438529dd0>"
       ]
      }
     ],
     "prompt_number": 31
    },
    {
     "cell_type": "markdown",
     "metadata": {},
     "source": [
      "The logistic curves look pretty good. I don't like that on this skewed dataset we could just predict \"swarm\" 100% of the time and do almost as well. But that's mainly due to the not very sharp logistic function. If we make it sharper, we can have logistic regression do a better job."
     ]
    }
   ],
   "metadata": {}
  }
 ]
}